{
 "cells": [
  {
   "cell_type": "markdown",
   "metadata": {},
   "source": [
    "# Sorting States by Orbital Angular Momentum\n",
    "Sources:\n",
    "\n",
    "1. https://journals.aps.org/prl/abstract/10.1103/PhysRevLett.105.153601\n",
    "\n",
    "2. http://www-users.math.umn.edu/~olver/ln_/cml.pdf\n",
    "\n",
    "The goal of this lesson is just to talk about the OAM sorter as an optical system, so I won't go into any detail on the electron optical elements. I'm assuming everyone reading knows basically what an OAM beam is; if not, it's just a beam of light with a phase of $\\exp{(il\\theta)}$ where $\\theta$ is the angle in the plane perpendicular to the axis of propagation and $l \\in \\mathbb{Z}$. \n",
    "\n",
    "Most of what follows comes from Berkhout's paper [1], and [5] covers the background on conformal mappings and complex functions more thoroughly."
   ]
  },
  {
   "cell_type": "markdown",
   "metadata": {},
   "source": [
    "## Motivation\n",
    "To date, most research on OAM beams has been motivated by a few applications: for starters, optical communication. Because $l$ is unbounded, the state space for OAM beams is countably infinite, and beams with $l \\sim 10^1$ have been plausible enough to generate. This OAM can then be used to encode information at a much higher rate than, say, polarization or bits through a wire. Another application, which first got me involved with them, has been using the OAM of light to exert a torque on a sample. There have also been a few theory papers on selection rules for OAM photons interacting with individual atoms. \n",
    "\n",
    "The Laguerre-Gauss modes $LG_{lp}$ form a convenient basis in which to talk about OAM. They are characterized by the \"topological charge\" or winding number $l$ and the radial number $p$, and they carry a quantized amount $l\\hbar$ of orbital angular momentum per photon. For all the above applications, it is sufficient to measure only $l$, and that's what the OAM sorter is designed to do. I'm interested in either whether this sorter could also be used to characterize arbitrary beams, or if there could be another method to do that.\n",
    "\n",
    "First, though, let's look at the problem of how to characterize an incident beam of light based on its topological charge. "
   ]
  },
  {
   "cell_type": "markdown",
   "metadata": {},
   "source": [
    "## Coordinate transformations and conformal maps\n",
    "\n",
    "Let's assume we have an ideal plane wave propagating in the $z$ direction, with a phase cross-section of $\\exp{(il\\theta)}$. The basic idea of the sorter is to induce a coordinate transformation $(r,\\theta) \\mapsto (u,v)$ such that a phase increasing with $\\theta$ becomes a phase increasing with $v$, or just a linear phase ramp. Then, a Fourier transforming lens will map this phase ramp to a vertical shift in position dependent on the angle of the phase ramp.\n",
    "\n",
    "The natural choice for such a coordinate transformation is to let $v = a\\theta$ for some constant $a$. Now, we'll also assume that we want this coordinate transformation to be achieved with a single optical element, and that we put that element in the front focal plane of a lens. This isn't the only way to achieve the coordinate transformation but it turns out to be a handy one. \n",
    "\n",
    "![title](name.png)\n",
    "\n",
    "A particularly nice way to describe these two-dimensional coordinate transformations is by treating each plane as the complex plane, and the coordinate transformation as a complex function. \n",
    "\n",
    "The complex function $f(x,y) = u(x,y) + iv(x,y)$ can be seen either as a vector field over some domain of $\\mathbb{C}$ or as a mapping of each point $(x,y)$ to a new point $(u,v)$. This description is nice for a couple reasons. For one, if treated as a vector field, then the conditions \n",
    "\\begin{split}\n",
    "\\nabla_{xy} \\cdot f & = 0 \n",
    "\\\\\n",
    "\\nabla_{xy} \\times f &= 0\n",
    "\\end{split}\n",
    "are satisfied iff $f(x,y) = u(x,y) - iv(x,y)$ is an analytic function (check for yourself). So, if these conditions apply to some physical problem, then you just need to find some function such that the boundary conditions for either the real part or the imaginary part of the function match those of your problem. The common example is ideal fluid flow, in which case Re($f$) is the velocity vector for the fluid. Or, $f$ could represent a (planar) solution to the paraxial Helmholtz equation. \n",
    "\n",
    "Alternately, we can treat the function $f$ as a mapping $f: \\Omega \\mapsto \\Omega'$. Then, if $f$ is a conformal mapping - analytic and $f'\\neq 0 $ in the domain of $f$ - it will preserve the form of $\\nabla^2$ up to a real scalar factor. This becomes extremely useful in solving any physical problem governed by the Poisson equation. A common trick when solving the Poisson equation with boundary conditions is to make a change of coordinates such that your new function is bounded to the unit disk, where solutions are well-known, and then translate the known solution back to the original coordinates. For our purposes however, the importance is that any function that solves the paraxial Helmholtz equation in one coordinate system will remain a solution under the coordinate transformation defined by $f$."
   ]
  },
  {
   "cell_type": "markdown",
   "metadata": {},
   "source": [
    "### Problem 1\n",
    "a. Assume $f(x,y) = u(x,y) - iv(x,y)$ is a conformal mapping. Show that if $\\psi(x,y)$ is a solution to $\\nabla^2_{xy}\\psi + k^2\\psi = 0$, then $\\psi(u,v)$ is a solution to $\\nabla^2_{uv}\\psi + k'^2\\psi = 0$ and find $k'^2$.\n",
    "\n",
    "b. Find a function $u(x,y)$ such that the mapping $f(z) = f(r,\\theta) = u(r,\\theta) - iv(r,\\theta)$ is conformal; that is, such that $f$ is an analytic function and $f'(z) \\neq 0$ in the domain of $f$. Assume that $v(r,\\theta) = a \\theta$ as defined above. \n",
    "\n",
    "As a sidenote, what is the mapping we just found as a function explicitly of $z$?"
   ]
  },
  {
   "cell_type": "markdown",
   "metadata": {},
   "source": [
    "## The stationary phase approximation\n",
    "\n",
    "At this point, we know what coordinate transformation we would like to make. Now, we assume the following setup: some object in the $(r,\\theta)$ plane imparts a phase $\\phi(r,\\theta)$ on the incident beam, and a lens Fourier transforms the result to give us the $(u,v)$ plane. The wavefunction in the back focal plane $(u,v)$ will be given (ignoring some irrelevant factors) by \n",
    "\n",
    "$$ \\int\\int a(r,\\theta) \\exp{\\left(i\\phi(r,\\theta)\\right)}\\exp{\\left(-i\\frac{k}{f}(ur\\cos\\theta+vr\\sin\\theta)\\right)} r dr d\\theta$$\n",
    "\n",
    "where $k$ is the wavenumber, $f$ is the focal length of the Fourier transforming lens, and $a(r,\\theta)$ is the amplitude of the incident wave. This can be rewritten\n",
    "\n",
    "$$ \\int\\int a(r,\\theta) \\exp{\\left[ikh(r,\\theta)\\right]} r dr d\\theta$$\n",
    "\n",
    "where \n",
    "\n",
    "$$h(r,\\theta) = \\frac{1}{k} \\phi(r,\\theta) - \\frac{1}{f} (ur\\cos\\theta + vr\\sin\\theta)$$\n",
    "\n",
    "For large $k$ this integral can be approximated using the stationary phase approximation, which uses the fact that the quickly oscillating phase within the integrand will essentially cancel itself out at all points except the saddle points of the function $h(r,\\theta)$, ie points $p_0=(r_0,\\theta_0)$ where $\\partial_r h |_{p_0} = \\frac{1}{r}\\partial_{\\theta} h|_{p_0} = 0$. Substituting for $h$, this gives us the conditions:\n",
    "$$\\partial_r \\phi = \\frac{k}{f} \\left(u\\cos\\theta + v\\sin\\theta\\right)$$\n",
    "$$\\partial_{\\theta} \\phi = \\frac{k}{f} \\left(-ur\\sin\\theta + vr\\cos\\theta\\right)$$"
   ]
  },
  {
   "cell_type": "markdown",
   "metadata": {},
   "source": [
    "### Problem 2\n",
    "Substitute our desired coordinate transformation for $u$ and $v$ and find the function $\\phi(r,\\theta)$. This function is the phase profile needed for our first element in order to make the coordinate transformation we want. This element is called the phase unwrapper. What do the conditions for $\\phi$ in the stationary phase approximation correspond to physically?"
   ]
  },
  {
   "cell_type": "markdown",
   "metadata": {},
   "source": [
    "## Requirement of a correction element\n",
    "At this point, we will have made the coordinate transformation that we wanted. However, this coordinate transformation only affects the amplitude distribution in the new coordinates, and so the phase is not necessarily preserved. Instead, due to path length differences, it exhibits rapid oscillations in the new plane. We can correct for this and essentially recollimate the beam, exactly like a plain two-lens magnification system that adds a spherical phase to a plane wave and then removes it after some rescaling of the coordinates. \n",
    "\n",
    "The correction phase can be calculated by making the reverse coordinate transformation. The calculation is identical to the one used to find $\\phi(r,\\theta)$. I should also note that there are equivalent derivations of each of these using geometric optics."
   ]
  },
  {
   "cell_type": "markdown",
   "metadata": {},
   "source": [
    "### Problem 3\n",
    "Find $r$ and $\\theta$ as functions of $u$ and $v$. Then, using the conditions:\n",
    "$$\\partial_u \\phi^- = \\frac{k}{f} r\\cos\\theta$$\n",
    "$$\\partial_v \\phi^- = \\frac{k}{f} r\\sin\\theta$$\n",
    "find $\\phi^-(u,v)$, the phase correction necessary to recollimate the beam. \n",
    "\n",
    "At this point, each point on the initial beam will have been mapped to another point in reciprocal space according to the coordinate transformation we have defined, and its phase will have been preserved. What remains is to look into how to create electron optical elements to impart these phases on an electron, and we'll look at that in a later lesson."
   ]
  }
 ],
 "metadata": {
  "kernelspec": {
   "display_name": "Python 3",
   "language": "python",
   "name": "python3"
  },
  "language_info": {
   "codemirror_mode": {
    "name": "ipython",
    "version": 3
   },
   "file_extension": ".py",
   "mimetype": "text/x-python",
   "name": "python",
   "nbconvert_exporter": "python",
   "pygments_lexer": "ipython3",
   "version": "3.6.5"
  }
 },
 "nbformat": 4,
 "nbformat_minor": 2
}
